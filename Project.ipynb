{
 "cells": [
  {
   "cell_type": "markdown",
   "id": "absent-appearance",
   "metadata": {},
   "source": [
    "## INTRODUCTION"
   ]
  },
  {
   "cell_type": "code",
   "execution_count": 54,
   "id": "apparent-guess",
   "metadata": {},
   "outputs": [],
   "source": [
    "#utilities\n",
    "import numpy as np\n",
    "import pandas as pd\n",
    "from sklearn.preprocessing import LabelEncoder\n",
    "\n",
    "#processing\n",
    "from sklearn.model_selection import GridSearchCV, train_test_split, KFold\n",
    "from sklearn.preprocessing import LabelEncoder, StandardScaler\n",
    "from sklearn.metrics import mean_squared_error, plot_confusion_matrix\n",
    "from sklearn.neighbors import KNeighborsClassifier\n",
    "from sklearn.ensemble import RandomForestClassifier, RandomForestRegressor\n",
    "from sklearn import metrics\n",
    "\n",
    "from tqdm import tqdm\n",
    "\n",
    "from sklearn.svm import SVR, LinearSVC\n",
    "import statsmodels.api as sm"
   ]
  },
  {
   "cell_type": "markdown",
   "id": "tough-testing",
   "metadata": {},
   "source": [
    "## LOADING IN THE DATA"
   ]
  },
  {
   "cell_type": "code",
   "execution_count": 2,
   "id": "adverse-diabetes",
   "metadata": {},
   "outputs": [
    {
     "data": {
      "text/html": [
       "<div>\n",
       "<style scoped>\n",
       "    .dataframe tbody tr th:only-of-type {\n",
       "        vertical-align: middle;\n",
       "    }\n",
       "\n",
       "    .dataframe tbody tr th {\n",
       "        vertical-align: top;\n",
       "    }\n",
       "\n",
       "    .dataframe thead th {\n",
       "        text-align: right;\n",
       "    }\n",
       "</style>\n",
       "<table border=\"1\" class=\"dataframe\">\n",
       "  <thead>\n",
       "    <tr style=\"text-align: right;\">\n",
       "      <th></th>\n",
       "      <th>YEAR</th>\n",
       "      <th>SAMPLE</th>\n",
       "      <th>SERIAL</th>\n",
       "      <th>CBSERIAL</th>\n",
       "      <th>HHWT</th>\n",
       "      <th>CLUSTER</th>\n",
       "      <th>CITY</th>\n",
       "      <th>STRATA</th>\n",
       "      <th>GQ</th>\n",
       "      <th>RENT</th>\n",
       "      <th>RENTGRS</th>\n",
       "      <th>PERNUM</th>\n",
       "      <th>PERWT</th>\n",
       "      <th>SEX</th>\n",
       "      <th>AGE</th>\n",
       "      <th>EDUC</th>\n",
       "      <th>EDUCD</th>\n",
       "      <th>INCTOT</th>\n",
       "    </tr>\n",
       "  </thead>\n",
       "  <tbody>\n",
       "    <tr>\n",
       "      <th>0</th>\n",
       "      <td>2018</td>\n",
       "      <td>201801</td>\n",
       "      <td>1</td>\n",
       "      <td>2018010000049</td>\n",
       "      <td>75.0</td>\n",
       "      <td>2018000000011</td>\n",
       "      <td>0</td>\n",
       "      <td>160001</td>\n",
       "      <td>4</td>\n",
       "      <td>0</td>\n",
       "      <td>0</td>\n",
       "      <td>1</td>\n",
       "      <td>75.0</td>\n",
       "      <td>2</td>\n",
       "      <td>19</td>\n",
       "      <td>6</td>\n",
       "      <td>65</td>\n",
       "      <td>-1500</td>\n",
       "    </tr>\n",
       "    <tr>\n",
       "      <th>1</th>\n",
       "      <td>2018</td>\n",
       "      <td>201801</td>\n",
       "      <td>2</td>\n",
       "      <td>2018010000058</td>\n",
       "      <td>75.0</td>\n",
       "      <td>2018000000021</td>\n",
       "      <td>0</td>\n",
       "      <td>190001</td>\n",
       "      <td>4</td>\n",
       "      <td>0</td>\n",
       "      <td>0</td>\n",
       "      <td>1</td>\n",
       "      <td>75.0</td>\n",
       "      <td>2</td>\n",
       "      <td>18</td>\n",
       "      <td>6</td>\n",
       "      <td>65</td>\n",
       "      <td>1600</td>\n",
       "    </tr>\n",
       "    <tr>\n",
       "      <th>2</th>\n",
       "      <td>2018</td>\n",
       "      <td>201801</td>\n",
       "      <td>3</td>\n",
       "      <td>2018010000219</td>\n",
       "      <td>118.0</td>\n",
       "      <td>2018000000031</td>\n",
       "      <td>0</td>\n",
       "      <td>200001</td>\n",
       "      <td>3</td>\n",
       "      <td>0</td>\n",
       "      <td>0</td>\n",
       "      <td>1</td>\n",
       "      <td>118.0</td>\n",
       "      <td>1</td>\n",
       "      <td>53</td>\n",
       "      <td>6</td>\n",
       "      <td>64</td>\n",
       "      <td>10000</td>\n",
       "    </tr>\n",
       "    <tr>\n",
       "      <th>3</th>\n",
       "      <td>2018</td>\n",
       "      <td>201801</td>\n",
       "      <td>4</td>\n",
       "      <td>2018010000246</td>\n",
       "      <td>43.0</td>\n",
       "      <td>2018000000041</td>\n",
       "      <td>0</td>\n",
       "      <td>240001</td>\n",
       "      <td>3</td>\n",
       "      <td>0</td>\n",
       "      <td>0</td>\n",
       "      <td>1</td>\n",
       "      <td>43.0</td>\n",
       "      <td>1</td>\n",
       "      <td>28</td>\n",
       "      <td>7</td>\n",
       "      <td>71</td>\n",
       "      <td>0</td>\n",
       "    </tr>\n",
       "    <tr>\n",
       "      <th>4</th>\n",
       "      <td>2018</td>\n",
       "      <td>201801</td>\n",
       "      <td>5</td>\n",
       "      <td>2018010000251</td>\n",
       "      <td>16.0</td>\n",
       "      <td>2018000000051</td>\n",
       "      <td>0</td>\n",
       "      <td>270101</td>\n",
       "      <td>3</td>\n",
       "      <td>0</td>\n",
       "      <td>0</td>\n",
       "      <td>1</td>\n",
       "      <td>16.0</td>\n",
       "      <td>2</td>\n",
       "      <td>25</td>\n",
       "      <td>3</td>\n",
       "      <td>30</td>\n",
       "      <td>0</td>\n",
       "    </tr>\n",
       "  </tbody>\n",
       "</table>\n",
       "</div>"
      ],
      "text/plain": [
       "   YEAR  SAMPLE  SERIAL       CBSERIAL   HHWT        CLUSTER  CITY  STRATA  \\\n",
       "0  2018  201801       1  2018010000049   75.0  2018000000011     0  160001   \n",
       "1  2018  201801       2  2018010000058   75.0  2018000000021     0  190001   \n",
       "2  2018  201801       3  2018010000219  118.0  2018000000031     0  200001   \n",
       "3  2018  201801       4  2018010000246   43.0  2018000000041     0  240001   \n",
       "4  2018  201801       5  2018010000251   16.0  2018000000051     0  270101   \n",
       "\n",
       "   GQ  RENT  RENTGRS  PERNUM  PERWT  SEX  AGE  EDUC  EDUCD  INCTOT  \n",
       "0   4     0        0       1   75.0    2   19     6     65   -1500  \n",
       "1   4     0        0       1   75.0    2   18     6     65    1600  \n",
       "2   3     0        0       1  118.0    1   53     6     64   10000  \n",
       "3   3     0        0       1   43.0    1   28     7     71       0  \n",
       "4   3     0        0       1   16.0    2   25     3     30       0  "
      ]
     },
     "execution_count": 2,
     "metadata": {},
     "output_type": "execute_result"
    }
   ],
   "source": [
    "df = pd.read_csv('/Users/rishsub/Desktop/Rishabh Subrahmanian - Income Data/usa_00002.csv.gz')\n",
    "df.head()"
   ]
  },
  {
   "cell_type": "code",
   "execution_count": 3,
   "id": "backed-fireplace",
   "metadata": {},
   "outputs": [
    {
     "data": {
      "text/plain": [
       "3214539"
      ]
     },
     "execution_count": 3,
     "metadata": {},
     "output_type": "execute_result"
    }
   ],
   "source": [
    "len(df.index)\n",
    "# I have wayyyy too many observations here for my algorithms to run smoothly.\n",
    "# I will be sampling this data to try and get a more managable DataFrame to do my work with"
   ]
  },
  {
   "cell_type": "code",
   "execution_count": 4,
   "id": "mounted-filling",
   "metadata": {},
   "outputs": [
    {
     "name": "stdout",
     "output_type": "stream",
     "text": [
      "50000\n"
     ]
    },
    {
     "data": {
      "text/html": [
       "<div>\n",
       "<style scoped>\n",
       "    .dataframe tbody tr th:only-of-type {\n",
       "        vertical-align: middle;\n",
       "    }\n",
       "\n",
       "    .dataframe tbody tr th {\n",
       "        vertical-align: top;\n",
       "    }\n",
       "\n",
       "    .dataframe thead th {\n",
       "        text-align: right;\n",
       "    }\n",
       "</style>\n",
       "<table border=\"1\" class=\"dataframe\">\n",
       "  <thead>\n",
       "    <tr style=\"text-align: right;\">\n",
       "      <th></th>\n",
       "      <th>YEAR</th>\n",
       "      <th>SAMPLE</th>\n",
       "      <th>SERIAL</th>\n",
       "      <th>CBSERIAL</th>\n",
       "      <th>HHWT</th>\n",
       "      <th>CLUSTER</th>\n",
       "      <th>CITY</th>\n",
       "      <th>STRATA</th>\n",
       "      <th>GQ</th>\n",
       "      <th>RENT</th>\n",
       "      <th>RENTGRS</th>\n",
       "      <th>PERNUM</th>\n",
       "      <th>PERWT</th>\n",
       "      <th>SEX</th>\n",
       "      <th>AGE</th>\n",
       "      <th>EDUC</th>\n",
       "      <th>EDUCD</th>\n",
       "      <th>INCTOT</th>\n",
       "    </tr>\n",
       "  </thead>\n",
       "  <tbody>\n",
       "    <tr>\n",
       "      <th>1586157</th>\n",
       "      <td>2018</td>\n",
       "      <td>201801</td>\n",
       "      <td>693567</td>\n",
       "      <td>2018000525007</td>\n",
       "      <td>62.0</td>\n",
       "      <td>2018006935671</td>\n",
       "      <td>0</td>\n",
       "      <td>150227</td>\n",
       "      <td>1</td>\n",
       "      <td>0</td>\n",
       "      <td>0</td>\n",
       "      <td>2</td>\n",
       "      <td>88.0</td>\n",
       "      <td>2</td>\n",
       "      <td>33</td>\n",
       "      <td>8</td>\n",
       "      <td>81</td>\n",
       "      <td>65000</td>\n",
       "    </tr>\n",
       "    <tr>\n",
       "      <th>1205867</th>\n",
       "      <td>2018</td>\n",
       "      <td>201801</td>\n",
       "      <td>521595</td>\n",
       "      <td>2018000105866</td>\n",
       "      <td>93.0</td>\n",
       "      <td>2018005215951</td>\n",
       "      <td>0</td>\n",
       "      <td>20020</td>\n",
       "      <td>1</td>\n",
       "      <td>0</td>\n",
       "      <td>0</td>\n",
       "      <td>2</td>\n",
       "      <td>92.0</td>\n",
       "      <td>2</td>\n",
       "      <td>56</td>\n",
       "      <td>11</td>\n",
       "      <td>114</td>\n",
       "      <td>500</td>\n",
       "    </tr>\n",
       "    <tr>\n",
       "      <th>2037992</th>\n",
       "      <td>2018</td>\n",
       "      <td>201801</td>\n",
       "      <td>893255</td>\n",
       "      <td>2018001027265</td>\n",
       "      <td>98.0</td>\n",
       "      <td>2018008932551</td>\n",
       "      <td>0</td>\n",
       "      <td>330336</td>\n",
       "      <td>1</td>\n",
       "      <td>0</td>\n",
       "      <td>0</td>\n",
       "      <td>1</td>\n",
       "      <td>98.0</td>\n",
       "      <td>2</td>\n",
       "      <td>75</td>\n",
       "      <td>10</td>\n",
       "      <td>101</td>\n",
       "      <td>11400</td>\n",
       "    </tr>\n",
       "    <tr>\n",
       "      <th>1512034</th>\n",
       "      <td>2018</td>\n",
       "      <td>201801</td>\n",
       "      <td>660662</td>\n",
       "      <td>2018000645696</td>\n",
       "      <td>46.0</td>\n",
       "      <td>2018006606621</td>\n",
       "      <td>0</td>\n",
       "      <td>130026</td>\n",
       "      <td>1</td>\n",
       "      <td>0</td>\n",
       "      <td>0</td>\n",
       "      <td>1</td>\n",
       "      <td>46.0</td>\n",
       "      <td>1</td>\n",
       "      <td>71</td>\n",
       "      <td>7</td>\n",
       "      <td>71</td>\n",
       "      <td>74500</td>\n",
       "    </tr>\n",
       "    <tr>\n",
       "      <th>2338167</th>\n",
       "      <td>2018</td>\n",
       "      <td>201801</td>\n",
       "      <td>1028833</td>\n",
       "      <td>2018000721990</td>\n",
       "      <td>86.0</td>\n",
       "      <td>2018010288331</td>\n",
       "      <td>0</td>\n",
       "      <td>10040</td>\n",
       "      <td>1</td>\n",
       "      <td>0</td>\n",
       "      <td>0</td>\n",
       "      <td>2</td>\n",
       "      <td>102.0</td>\n",
       "      <td>2</td>\n",
       "      <td>51</td>\n",
       "      <td>8</td>\n",
       "      <td>81</td>\n",
       "      <td>38000</td>\n",
       "    </tr>\n",
       "  </tbody>\n",
       "</table>\n",
       "</div>"
      ],
      "text/plain": [
       "         YEAR  SAMPLE   SERIAL       CBSERIAL  HHWT        CLUSTER  CITY  \\\n",
       "1586157  2018  201801   693567  2018000525007  62.0  2018006935671     0   \n",
       "1205867  2018  201801   521595  2018000105866  93.0  2018005215951     0   \n",
       "2037992  2018  201801   893255  2018001027265  98.0  2018008932551     0   \n",
       "1512034  2018  201801   660662  2018000645696  46.0  2018006606621     0   \n",
       "2338167  2018  201801  1028833  2018000721990  86.0  2018010288331     0   \n",
       "\n",
       "         STRATA  GQ  RENT  RENTGRS  PERNUM  PERWT  SEX  AGE  EDUC  EDUCD  \\\n",
       "1586157  150227   1     0        0       2   88.0    2   33     8     81   \n",
       "1205867   20020   1     0        0       2   92.0    2   56    11    114   \n",
       "2037992  330336   1     0        0       1   98.0    2   75    10    101   \n",
       "1512034  130026   1     0        0       1   46.0    1   71     7     71   \n",
       "2338167   10040   1     0        0       2  102.0    2   51     8     81   \n",
       "\n",
       "         INCTOT  \n",
       "1586157   65000  \n",
       "1205867     500  \n",
       "2037992   11400  \n",
       "1512034   74500  \n",
       "2338167   38000  "
      ]
     },
     "execution_count": 4,
     "metadata": {},
     "output_type": "execute_result"
    }
   ],
   "source": [
    "# I'm sampling the data; I'm talking a sample of the sample. This way, I can still make a prediction \n",
    "# Without completely ruining my computer and having hours of run time for a single code cell\n",
    "df_sample = df.sample(n = 50000)\n",
    "print(len(df_sample.index)) \n",
    "# My sampled data will only have 50,000 observations, still a large number but definitely\n",
    "# less than the 3,214,539 observations in my initial data set\n",
    "df_sample.head()"
   ]
  },
  {
   "cell_type": "code",
   "execution_count": 5,
   "id": "chronic-aspect",
   "metadata": {},
   "outputs": [
    {
     "data": {
      "text/plain": [
       "Index(['year', 'cbserial', 'hhwt', 'cluster', 'city', 'strata', 'gq', 'rent',\n",
       "       'rentgrs', 'pernum', 'perwt', 'sex', 'age', 'educ', 'educd', 'inctot'],\n",
       "      dtype='object')"
      ]
     },
     "execution_count": 5,
     "metadata": {},
     "output_type": "execute_result"
    }
   ],
   "source": [
    "df_sample.columns = df_sample.columns.str.lower()\n",
    "df_prepped = df_sample.set_index(['sample', 'serial'])\n",
    "df_prepped.columns\n"
   ]
  },
  {
   "cell_type": "code",
   "execution_count": 7,
   "id": "outdoor-ceiling",
   "metadata": {},
   "outputs": [
    {
     "data": {
      "text/plain": [
       "Index(['hhwt', 'city', 'strata', 'rent', 'pernum', 'perwt', 'sex', 'age',\n",
       "       'educ', 'inctot'],\n",
       "      dtype='object')"
      ]
     },
     "execution_count": 7,
     "metadata": {},
     "output_type": "execute_result"
    }
   ],
   "source": [
    "df_prepped = df_prepped.drop(['year','gq','rentgrs','educd','cbserial','cluster'], axis = 1)\n",
    "df_prepped.columns\n"
   ]
  },
  {
   "cell_type": "code",
   "execution_count": 24,
   "id": "paperback-spirituality",
   "metadata": {},
   "outputs": [
    {
     "name": "stdout",
     "output_type": "stream",
     "text": [
      "(3214539, 18)\n",
      "(50000, 10)\n"
     ]
    }
   ],
   "source": [
    "print(df.shape)\n",
    "print(df_prepped.shape)\n",
    "# This clearly shows the different sizes of the dataset I originally started with and the one I will be using\n",
    "# for my tests"
   ]
  },
  {
   "cell_type": "code",
   "execution_count": 51,
   "id": "twenty-surveillance",
   "metadata": {},
   "outputs": [
    {
     "data": {
      "text/plain": [
       "<bound method DataFrame.info of                 hhwt  city  strata  rent  pernum  perwt  sex  age  educ  \\\n",
       "sample serial                                                             \n",
       "201801 693567   62.0     0  150227     0       2   88.0    2   33     8   \n",
       "       521595   93.0     0   20020     0       2   92.0    2   56    11   \n",
       "       893255   98.0     0  330336     0       1   98.0    2   75    10   \n",
       "       660662   46.0     0  130026     0       1   46.0    1   71     7   \n",
       "       1028833  86.0     0   10040     0       2  102.0    2   51     8   \n",
       "...              ...   ...     ...   ...     ...    ...  ...  ...   ...   \n",
       "       1099429  16.0     0   30042     0       2   19.0    1   45    11   \n",
       "       1269149  57.0     0  380148   650       5   60.0    2   11     1   \n",
       "       461249    7.0     0   90017     0       1    8.0    1   70     6   \n",
       "       715656   71.0     0   10028     0       1   70.0    2   24     8   \n",
       "       22002    91.0     0  260001     0       2  100.0    2   81     8   \n",
       "\n",
       "                 inctot  \n",
       "sample serial            \n",
       "201801 693567     65000  \n",
       "       521595       500  \n",
       "       893255     11400  \n",
       "       660662     74500  \n",
       "       1028833    38000  \n",
       "...                 ...  \n",
       "       1099429    75000  \n",
       "       1269149  9999999  \n",
       "       461249     32000  \n",
       "       715656     29200  \n",
       "       22002      13900  \n",
       "\n",
       "[50000 rows x 10 columns]>"
      ]
     },
     "execution_count": 51,
     "metadata": {},
     "output_type": "execute_result"
    }
   ],
   "source": [
    "# The info of the dataset\n",
    "df_prepped.info"
   ]
  },
  {
   "cell_type": "code",
   "execution_count": 57,
   "id": "sealed-currency",
   "metadata": {},
   "outputs": [
    {
     "data": {
      "text/plain": [
       "3900"
      ]
     },
     "execution_count": 57,
     "metadata": {},
     "output_type": "execute_result"
    }
   ],
   "source": [
    "# This was to see how many unique values of rent there were so I knew\n",
    "# this that we could predict what rates of rent individuals can have by\n",
    "# classification\n",
    "df_prepped['rent'].unique()\n",
    "df_prepped['rent'].max()"
   ]
  },
  {
   "cell_type": "code",
   "execution_count": 9,
   "id": "elder-terminal",
   "metadata": {},
   "outputs": [],
   "source": [
    "\n",
    "#What we've been doing all year baby\n",
    "y = df_prepped['rent']\n",
    "x = df_prepped.drop(columns = 'rent')\n",
    "\n",
    "x_train, x_test, y_train, y_test = train_test_split(x, y, train_size = 0.05, random_state = 490)\n",
    "\n",
    "x_train_std = x_train.apply(lambda x: (x - np.mean(x))/np.std(x), axis = 0)\n",
    "x_test_std  = x_test.apply(lambda x: (x - np.mean(x))/np.std(x), axis = 0)\n",
    "\n",
    "x_train_std = sm.add_constant(x_train_std)\n",
    "x_test_std  = sm.add_constant(x_test_std)\n",
    "x_train     = sm.add_constant(x_train)\n",
    "x_test      = sm.add_constant(x_test)\n"
   ]
  },
  {
   "cell_type": "code",
   "execution_count": 10,
   "id": "danish-vegetarian",
   "metadata": {},
   "outputs": [
    {
     "name": "stdout",
     "output_type": "stream",
     "text": [
      "572.7676413656801\n"
     ]
    },
    {
     "data": {
      "text/plain": [
       "0.7518526315789473"
      ]
     },
     "execution_count": 10,
     "metadata": {},
     "output_type": "execute_result"
    }
   ],
   "source": [
    "#RMSE of null model\n",
    "\n",
    "rmse_null = np.sqrt(np.mean(  (y_test - np.mean(y_train))**2  ))\n",
    "print(rmse_null)\n",
    "\n",
    "#Accuracy of null\n",
    "y_hat_null = y_train.value_counts().index[0]\n",
    "acc_null = np.mean(y_hat_null == y_test)\n",
    "acc_null\n"
   ]
  },
  {
   "cell_type": "markdown",
   "id": "integral-boost",
   "metadata": {},
   "source": [
    "## OLS Summary and RMSE (Inference Model)"
   ]
  },
  {
   "cell_type": "code",
   "execution_count": 11,
   "id": "coastal-sudan",
   "metadata": {},
   "outputs": [
    {
     "name": "stdout",
     "output_type": "stream",
     "text": [
      "                  Results: Ordinary least squares\n",
      "===================================================================\n",
      "Model:              OLS              Adj. R-squared:     0.084     \n",
      "Dependent Variable: rent             AIC:                38860.6839\n",
      "Date:               2021-05-15 20:04 BIC:                38918.9244\n",
      "No. Observations:   2500             Log-Likelihood:     -19420.   \n",
      "Df Model:           9                F-statistic:        26.48     \n",
      "Df Residuals:       2490             Prob (F-statistic): 4.61e-44  \n",
      "R-squared:          0.087            Scale:              3.2854e+05\n",
      "---------------------------------------------------------------------\n",
      "          Coef.     Std.Err.      t      P>|t|     [0.025     0.975] \n",
      "---------------------------------------------------------------------\n",
      "const    361.0213    70.4161    5.1270   0.0000   222.9411   499.1016\n",
      "hhwt       0.8211     0.3009    2.7289   0.0064     0.2311     1.4111\n",
      "city       0.0797     0.0082    9.7271   0.0000     0.0636     0.0957\n",
      "strata     0.0000     0.0000    1.2589   0.2082    -0.0000     0.0000\n",
      "pernum   -26.8698    11.3878   -2.3595   0.0184   -49.2003    -4.5393\n",
      "perwt     -0.0103     0.2613   -0.0396   0.9684    -0.5228     0.5021\n",
      "sex       31.1265    23.0105    1.3527   0.1763   -13.9952    76.2483\n",
      "age       -5.9877     0.6813   -8.7881   0.0000    -7.3237    -4.6516\n",
      "educ       9.5108     5.1282    1.8546   0.0638    -0.5451    19.5667\n",
      "inctot    -0.0000     0.0000   -0.7731   0.4395    -0.0000     0.0000\n",
      "-------------------------------------------------------------------\n",
      "Omnibus:              1229.636      Durbin-Watson:         1.998   \n",
      "Prob(Omnibus):        0.000         Jarque-Bera (JB):      6990.124\n",
      "Skew:                 2.330         Prob(JB):              0.000   \n",
      "Kurtosis:             9.737         Condition No.:         25575492\n",
      "===================================================================\n",
      "* The condition number is large (3e+07). This might indicate\n",
      "strong multicollinearity or other numerical problems.\n"
     ]
    }
   ],
   "source": [
    "#OLS summary\n",
    "OLS_model = sm.OLS(y_train, x_train).fit()\n",
    "print(OLS_model.summary2())\n",
    "# R-Squared (accuracy) is 0.084 for OLS"
   ]
  },
  {
   "cell_type": "code",
   "execution_count": 12,
   "id": "exposed-trader",
   "metadata": {},
   "outputs": [
    {
     "data": {
      "text/html": [
       "<div>\n",
       "<style scoped>\n",
       "    .dataframe tbody tr th:only-of-type {\n",
       "        vertical-align: middle;\n",
       "    }\n",
       "\n",
       "    .dataframe tbody tr th {\n",
       "        vertical-align: top;\n",
       "    }\n",
       "\n",
       "    .dataframe thead th {\n",
       "        text-align: right;\n",
       "    }\n",
       "</style>\n",
       "<table border=\"1\" class=\"dataframe\">\n",
       "  <thead>\n",
       "    <tr style=\"text-align: right;\">\n",
       "      <th></th>\n",
       "      <th>hhwt</th>\n",
       "      <th>city</th>\n",
       "      <th>strata</th>\n",
       "      <th>rent</th>\n",
       "      <th>pernum</th>\n",
       "      <th>perwt</th>\n",
       "      <th>sex</th>\n",
       "      <th>age</th>\n",
       "      <th>educ</th>\n",
       "      <th>inctot</th>\n",
       "    </tr>\n",
       "  </thead>\n",
       "  <tbody>\n",
       "    <tr>\n",
       "      <th>hhwt</th>\n",
       "      <td>1.000000</td>\n",
       "      <td>0.046858</td>\n",
       "      <td>0.015377</td>\n",
       "      <td>0.148526</td>\n",
       "      <td>0.055904</td>\n",
       "      <td>0.895855</td>\n",
       "      <td>-0.004743</td>\n",
       "      <td>-0.115742</td>\n",
       "      <td>-0.055226</td>\n",
       "      <td>0.060746</td>\n",
       "    </tr>\n",
       "    <tr>\n",
       "      <th>city</th>\n",
       "      <td>0.046858</td>\n",
       "      <td>1.000000</td>\n",
       "      <td>0.040171</td>\n",
       "      <td>0.173897</td>\n",
       "      <td>0.011760</td>\n",
       "      <td>0.051799</td>\n",
       "      <td>0.009573</td>\n",
       "      <td>-0.025966</td>\n",
       "      <td>0.011778</td>\n",
       "      <td>-0.007847</td>\n",
       "    </tr>\n",
       "    <tr>\n",
       "      <th>strata</th>\n",
       "      <td>0.015377</td>\n",
       "      <td>0.040171</td>\n",
       "      <td>1.000000</td>\n",
       "      <td>0.025971</td>\n",
       "      <td>0.017569</td>\n",
       "      <td>0.017437</td>\n",
       "      <td>-0.006066</td>\n",
       "      <td>-0.014676</td>\n",
       "      <td>0.009986</td>\n",
       "      <td>0.006828</td>\n",
       "    </tr>\n",
       "    <tr>\n",
       "      <th>rent</th>\n",
       "      <td>0.148526</td>\n",
       "      <td>0.173897</td>\n",
       "      <td>0.025971</td>\n",
       "      <td>1.000000</td>\n",
       "      <td>0.037667</td>\n",
       "      <td>0.147691</td>\n",
       "      <td>0.006784</td>\n",
       "      <td>-0.157929</td>\n",
       "      <td>-0.020407</td>\n",
       "      <td>0.041860</td>\n",
       "    </tr>\n",
       "    <tr>\n",
       "      <th>pernum</th>\n",
       "      <td>0.055904</td>\n",
       "      <td>0.011760</td>\n",
       "      <td>0.017569</td>\n",
       "      <td>0.037667</td>\n",
       "      <td>1.000000</td>\n",
       "      <td>0.105487</td>\n",
       "      <td>-0.002227</td>\n",
       "      <td>-0.547436</td>\n",
       "      <td>-0.502229</td>\n",
       "      <td>0.561374</td>\n",
       "    </tr>\n",
       "    <tr>\n",
       "      <th>perwt</th>\n",
       "      <td>0.895855</td>\n",
       "      <td>0.051799</td>\n",
       "      <td>0.017437</td>\n",
       "      <td>0.147691</td>\n",
       "      <td>0.105487</td>\n",
       "      <td>1.000000</td>\n",
       "      <td>-0.009029</td>\n",
       "      <td>-0.135786</td>\n",
       "      <td>-0.061926</td>\n",
       "      <td>0.056635</td>\n",
       "    </tr>\n",
       "    <tr>\n",
       "      <th>sex</th>\n",
       "      <td>-0.004743</td>\n",
       "      <td>0.009573</td>\n",
       "      <td>-0.006066</td>\n",
       "      <td>0.006784</td>\n",
       "      <td>-0.002227</td>\n",
       "      <td>-0.009029</td>\n",
       "      <td>1.000000</td>\n",
       "      <td>0.044132</td>\n",
       "      <td>0.033188</td>\n",
       "      <td>-0.021597</td>\n",
       "    </tr>\n",
       "    <tr>\n",
       "      <th>age</th>\n",
       "      <td>-0.115742</td>\n",
       "      <td>-0.025966</td>\n",
       "      <td>-0.014676</td>\n",
       "      <td>-0.157929</td>\n",
       "      <td>-0.547436</td>\n",
       "      <td>-0.135786</td>\n",
       "      <td>0.044132</td>\n",
       "      <td>1.000000</td>\n",
       "      <td>0.500984</td>\n",
       "      <td>-0.644088</td>\n",
       "    </tr>\n",
       "    <tr>\n",
       "      <th>educ</th>\n",
       "      <td>-0.055226</td>\n",
       "      <td>0.011778</td>\n",
       "      <td>0.009986</td>\n",
       "      <td>-0.020407</td>\n",
       "      <td>-0.502229</td>\n",
       "      <td>-0.061926</td>\n",
       "      <td>0.033188</td>\n",
       "      <td>0.500984</td>\n",
       "      <td>1.000000</td>\n",
       "      <td>-0.706249</td>\n",
       "    </tr>\n",
       "    <tr>\n",
       "      <th>inctot</th>\n",
       "      <td>0.060746</td>\n",
       "      <td>-0.007847</td>\n",
       "      <td>0.006828</td>\n",
       "      <td>0.041860</td>\n",
       "      <td>0.561374</td>\n",
       "      <td>0.056635</td>\n",
       "      <td>-0.021597</td>\n",
       "      <td>-0.644088</td>\n",
       "      <td>-0.706249</td>\n",
       "      <td>1.000000</td>\n",
       "    </tr>\n",
       "  </tbody>\n",
       "</table>\n",
       "</div>"
      ],
      "text/plain": [
       "            hhwt      city    strata      rent    pernum     perwt       sex  \\\n",
       "hhwt    1.000000  0.046858  0.015377  0.148526  0.055904  0.895855 -0.004743   \n",
       "city    0.046858  1.000000  0.040171  0.173897  0.011760  0.051799  0.009573   \n",
       "strata  0.015377  0.040171  1.000000  0.025971  0.017569  0.017437 -0.006066   \n",
       "rent    0.148526  0.173897  0.025971  1.000000  0.037667  0.147691  0.006784   \n",
       "pernum  0.055904  0.011760  0.017569  0.037667  1.000000  0.105487 -0.002227   \n",
       "perwt   0.895855  0.051799  0.017437  0.147691  0.105487  1.000000 -0.009029   \n",
       "sex    -0.004743  0.009573 -0.006066  0.006784 -0.002227 -0.009029  1.000000   \n",
       "age    -0.115742 -0.025966 -0.014676 -0.157929 -0.547436 -0.135786  0.044132   \n",
       "educ   -0.055226  0.011778  0.009986 -0.020407 -0.502229 -0.061926  0.033188   \n",
       "inctot  0.060746 -0.007847  0.006828  0.041860  0.561374  0.056635 -0.021597   \n",
       "\n",
       "             age      educ    inctot  \n",
       "hhwt   -0.115742 -0.055226  0.060746  \n",
       "city   -0.025966  0.011778 -0.007847  \n",
       "strata -0.014676  0.009986  0.006828  \n",
       "rent   -0.157929 -0.020407  0.041860  \n",
       "pernum -0.547436 -0.502229  0.561374  \n",
       "perwt  -0.135786 -0.061926  0.056635  \n",
       "sex     0.044132  0.033188 -0.021597  \n",
       "age     1.000000  0.500984 -0.644088  \n",
       "educ    0.500984  1.000000 -0.706249  \n",
       "inctot -0.644088 -0.706249  1.000000  "
      ]
     },
     "execution_count": 12,
     "metadata": {},
     "output_type": "execute_result"
    }
   ],
   "source": [
    "# As we can see from this correlation matrix, there are quite a few variables that are highly correlated with the one another\n",
    "# rentgrs(monthly gross rent, utilities and fuels included) is highly corrlelated with rent(basic rent of a unit). Because of this,\n",
    "# I chose to drop rentgrs from my inference model.\n",
    "df_prepped.corr()"
   ]
  },
  {
   "cell_type": "code",
   "execution_count": 43,
   "id": "spanish-evening",
   "metadata": {},
   "outputs": [
    {
     "name": "stdout",
     "output_type": "stream",
     "text": [
      "551.7365439496874\n"
     ]
    }
   ],
   "source": [
    "#OLS RMSE\n",
    "rmse_std_final = np.sqrt(np.mean(  (y_test - OLS_model.predict(x_test))**2  ))\n",
    "rmse_test = np.sqrt(np.mean(  (y_test - OLS_model.predict(x_test))**2  ))\n",
    "print(rmse_test)\n"
   ]
  },
  {
   "cell_type": "code",
   "execution_count": 52,
   "id": "round-college",
   "metadata": {},
   "outputs": [
    {
     "data": {
      "text/html": [
       "<table class=\"simpletable\">\n",
       "<tr>\n",
       "        <td>Model:</td>               <td>OLS</td>         <td>Adj. R-squared:</td>      <td>0.085</td>  \n",
       "</tr>\n",
       "<tr>\n",
       "  <td>Dependent Variable:</td>       <td>rent</td>              <td>AIC:</td>         <td>38857.2856</td>\n",
       "</tr>\n",
       "<tr>\n",
       "         <td>Date:</td>        <td>2021-05-15 21:52</td>        <td>BIC:</td>         <td>38903.8779</td>\n",
       "</tr>\n",
       "<tr>\n",
       "   <td>No. Observations:</td>        <td>2500</td>         <td>Log-Likelihood:</td>     <td>-19421.</td> \n",
       "</tr>\n",
       "<tr>\n",
       "       <td>Df Model:</td>              <td>7</td>           <td>F-statistic:</td>        <td>33.97</td>  \n",
       "</tr>\n",
       "<tr>\n",
       "     <td>Df Residuals:</td>          <td>2492</td>       <td>Prob (F-statistic):</td>  <td>1.80e-45</td> \n",
       "</tr>\n",
       "<tr>\n",
       "      <td>R-squared:</td>            <td>0.087</td>            <td>Scale:</td>        <td>3.2835e+05</td>\n",
       "</tr>\n",
       "</table>\n",
       "<table class=\"simpletable\">\n",
       "<tr>\n",
       "     <td></td>      <th>Coef.</th>   <th>Std.Err.</th>    <th>t</th>     <th>P>|t|</th>  <th>[0.025</th>    <th>0.975]</th>  \n",
       "</tr>\n",
       "<tr>\n",
       "  <th>const</th>  <td>278.4256</td>   <td>11.4604</td> <td>24.2946</td> <td>0.0000</td> <td>255.9527</td>  <td>300.8985</td> \n",
       "</tr>\n",
       "<tr>\n",
       "  <th>hhwt</th>    <td>60.1817</td>   <td>11.5622</td> <td>5.2050</td>  <td>0.0000</td>  <td>37.5092</td>   <td>82.8542</td> \n",
       "</tr>\n",
       "<tr>\n",
       "  <th>city</th>   <td>112.6590</td>   <td>11.4938</td> <td>9.8017</td>  <td>0.0000</td>  <td>90.1206</td>  <td>135.1973</td> \n",
       "</tr>\n",
       "<tr>\n",
       "  <th>strata</th>  <td>14.8642</td>   <td>11.5007</td> <td>1.2925</td>  <td>0.1963</td>  <td>-7.6876</td>   <td>37.4161</td> \n",
       "</tr>\n",
       "<tr>\n",
       "  <th>pernum</th> <td>-37.5160</td>   <td>14.6554</td> <td>-2.5599</td> <td>0.0105</td> <td>-66.2539</td>   <td>-8.7780</td> \n",
       "</tr>\n",
       "<tr>\n",
       "  <th>sex</th>     <td>15.3646</td>   <td>11.4963</td> <td>1.3365</td>  <td>0.1815</td>  <td>-7.1787</td>   <td>37.9080</td> \n",
       "</tr>\n",
       "<tr>\n",
       "  <th>age</th>    <td>-134.9985</td>  <td>14.4470</td> <td>-9.3444</td> <td>0.0000</td> <td>-163.3278</td> <td>-106.6692</td>\n",
       "</tr>\n",
       "<tr>\n",
       "  <th>educ</th>    <td>37.9859</td>   <td>14.0562</td> <td>2.7024</td>  <td>0.0069</td>  <td>10.4228</td>   <td>65.5490</td> \n",
       "</tr>\n",
       "</table>\n",
       "<table class=\"simpletable\">\n",
       "<tr>\n",
       "     <td>Omnibus:</td>    <td>1229.192</td>  <td>Durbin-Watson:</td>     <td>1.999</td> \n",
       "</tr>\n",
       "<tr>\n",
       "  <td>Prob(Omnibus):</td>   <td>0.000</td>  <td>Jarque-Bera (JB):</td> <td>6981.361</td>\n",
       "</tr>\n",
       "<tr>\n",
       "       <td>Skew:</td>       <td>2.329</td>      <td>Prob(JB):</td>       <td>0.000</td> \n",
       "</tr>\n",
       "<tr>\n",
       "     <td>Kurtosis:</td>     <td>9.732</td>   <td>Condition No.:</td>       <td>2</td>   \n",
       "</tr>\n",
       "</table>"
      ],
      "text/plain": [
       "<class 'statsmodels.iolib.summary2.Summary'>\n",
       "\"\"\"\n",
       "                  Results: Ordinary least squares\n",
       "===================================================================\n",
       "Model:              OLS              Adj. R-squared:     0.085     \n",
       "Dependent Variable: rent             AIC:                38857.2856\n",
       "Date:               2021-05-15 21:52 BIC:                38903.8779\n",
       "No. Observations:   2500             Log-Likelihood:     -19421.   \n",
       "Df Model:           7                F-statistic:        33.97     \n",
       "Df Residuals:       2492             Prob (F-statistic): 1.80e-45  \n",
       "R-squared:          0.087            Scale:              3.2835e+05\n",
       "--------------------------------------------------------------------\n",
       "            Coef.    Std.Err.     t     P>|t|     [0.025     0.975] \n",
       "--------------------------------------------------------------------\n",
       "const      278.4256   11.4604  24.2946  0.0000   255.9527   300.8985\n",
       "hhwt        60.1817   11.5622   5.2050  0.0000    37.5092    82.8542\n",
       "city       112.6590   11.4938   9.8017  0.0000    90.1206   135.1973\n",
       "strata      14.8642   11.5007   1.2925  0.1963    -7.6876    37.4161\n",
       "pernum     -37.5160   14.6554  -2.5599  0.0105   -66.2539    -8.7780\n",
       "sex         15.3646   11.4963   1.3365  0.1815    -7.1787    37.9080\n",
       "age       -134.9985   14.4470  -9.3444  0.0000  -163.3278  -106.6692\n",
       "educ        37.9859   14.0562   2.7024  0.0069    10.4228    65.5490\n",
       "-------------------------------------------------------------------\n",
       "Omnibus:              1229.192      Durbin-Watson:         1.999   \n",
       "Prob(Omnibus):        0.000         Jarque-Bera (JB):      6981.361\n",
       "Skew:                 2.329         Prob(JB):              0.000   \n",
       "Kurtosis:             9.732         Condition No.:         2       \n",
       "===================================================================\n",
       "\n",
       "\"\"\""
      ]
     },
     "execution_count": 52,
     "metadata": {},
     "output_type": "execute_result"
    }
   ],
   "source": [
    "#OLS RMSE\n",
    "df_prepped.replace([np.inf, -np.inf], np.nan)\n",
    "df_prepped.dropna()\n",
    "\n",
    "fit_lasso_tuned = sm.OLS(y_train, x_train_std).fit_regularized(alpha = 10, L1_wt = 1)\n",
    "fit_lasso_tuned.params\n",
    "beta = fit_lasso_tuned.params\n",
    "beta.index[beta == 0]\n",
    "x_train_std_trim = x_train_std.loc[:, ~x_train_std.columns.isin(beta.index[beta == 0])]\n",
    "x_test_trim = x_test.loc[:, ~x_test_std.columns.isin(beta.index[beta == 0])]\n",
    "\n",
    "fit_final = sm.OLS(y_train, x_train_std_trim).fit()\n",
    "fit_final.summary2()\n"
   ]
  },
  {
   "cell_type": "markdown",
   "id": "optimum-circus",
   "metadata": {},
   "source": [
    "Interpretation:\n",
    "It looks like the 3 most significant marginal effects in this rergression are the city, age, and education. That is because thses are the variables that have the lowest p-value."
   ]
  },
  {
   "cell_type": "markdown",
   "id": "sonic-worker",
   "metadata": {},
   "source": [
    "# Prediction"
   ]
  },
  {
   "cell_type": "markdown",
   "id": "surgical-relationship",
   "metadata": {},
   "source": [
    "## KNN Model"
   ]
  },
  {
   "cell_type": "code",
   "execution_count": 14,
   "id": "particular-snapshot",
   "metadata": {},
   "outputs": [
    {
     "name": "stderr",
     "output_type": "stream",
     "text": [
      "100%|██████████| 10/10 [00:01<00:00,  5.47it/s]\n"
     ]
    }
   ],
   "source": [
    "kf = KFold(n_splits = 5, random_state = 490, shuffle = True)\n",
    "\n",
    "k_nbrs = [5, 10, 15, 20, 25, 30, 35, 40, 45, 50]\n",
    "accuracy = {}\n",
    "\n",
    "\n",
    "for k in tqdm(k_nbrs):\n",
    "    acc = []\n",
    "    for trn, tst in kf.split(x_train_std):\n",
    "        yhat = KNeighborsClassifier(n_neighbors = k\n",
    "                                   ).fit(x_train_std.iloc[trn], y_train.iloc[trn]\n",
    "                                        ).predict(x_train_std.iloc[tst])        \n",
    "        acc.append(np.mean(yhat == y_train.iloc[tst]))\n",
    "    accuracy[k] = np.mean(acc)"
   ]
  },
  {
   "cell_type": "code",
   "execution_count": 15,
   "id": "authentic-frequency",
   "metadata": {},
   "outputs": [
    {
     "name": "stdout",
     "output_type": "stream",
     "text": [
      "corner-solution value of k is = 20\n"
     ]
    }
   ],
   "source": [
    "print('corner-solution value of k is = %s' % max(accuracy, key = accuracy.get))"
   ]
  },
  {
   "cell_type": "code",
   "execution_count": 40,
   "id": "personal-detector",
   "metadata": {},
   "outputs": [],
   "source": [
    "x_test_knn = x_test.sample(frac = 0.1, random_state = 490)\n",
    "y_test_knn = y_test.sample(frac = 0.1, random_state = 490)"
   ]
  },
  {
   "cell_type": "code",
   "execution_count": 41,
   "id": "educated-interaction",
   "metadata": {},
   "outputs": [
    {
     "name": "stdout",
     "output_type": "stream",
     "text": [
      "0.7482105263157894\n",
      "CPU times: user 283 ms, sys: 3.71 ms, total: 287 ms\n",
      "Wall time: 298 ms\n"
     ]
    }
   ],
   "source": [
    "%%time\n",
    "best_k = max(accuracy, key = accuracy.get)\n",
    "knn = KNeighborsClassifier(n_neighbors = best_k)\n",
    "knn.fit(x_train_std, y_train)\n",
    "acc_knn = knn.score(x_test_knn, y_test_knn)\n",
    "\n",
    "print(acc_knn)"
   ]
  },
  {
   "cell_type": "markdown",
   "id": "optimum-steal",
   "metadata": {},
   "source": [
    "## Random Forest"
   ]
  },
  {
   "cell_type": "code",
   "execution_count": 35,
   "id": "theoretical-consciousness",
   "metadata": {},
   "outputs": [
    {
     "name": "stderr",
     "output_type": "stream",
     "text": [
      "[Parallel(n_jobs=-1)]: Using backend ThreadingBackend with 4 concurrent workers.\n",
      "[Parallel(n_jobs=-1)]: Done  42 tasks      | elapsed:    0.2s\n",
      "[Parallel(n_jobs=-1)]: Done 192 tasks      | elapsed:    0.8s\n",
      "[Parallel(n_jobs=-1)]: Done 442 tasks      | elapsed:    1.9s\n",
      "[Parallel(n_jobs=-1)]: Done 500 out of 500 | elapsed:    2.1s finished\n"
     ]
    },
    {
     "data": {
      "text/plain": [
       "RandomForestClassifier(max_features='sqrt', n_estimators=500, n_jobs=-1,\n",
       "                       oob_score=True, random_state=490, verbose=1)"
      ]
     },
     "execution_count": 35,
     "metadata": {},
     "output_type": "execute_result"
    }
   ],
   "source": [
    "clf_rf = RandomForestClassifier(n_estimators = 500,\n",
    "                          random_state = 490,\n",
    "                          max_features = 'sqrt',\n",
    "                          oob_score = True,\n",
    "                          n_jobs = -1,\n",
    "                          verbose = 1)\n",
    "\n",
    "clf_rf.fit(x_train_std, y_train)"
   ]
  },
  {
   "cell_type": "code",
   "execution_count": 36,
   "id": "destroyed-health",
   "metadata": {},
   "outputs": [
    {
     "name": "stderr",
     "output_type": "stream",
     "text": [
      "[Parallel(n_jobs=4)]: Using backend ThreadingBackend with 4 concurrent workers.\n",
      "[Parallel(n_jobs=4)]: Done  42 tasks      | elapsed:    0.8s\n",
      "[Parallel(n_jobs=4)]: Done 192 tasks      | elapsed:    3.0s\n",
      "[Parallel(n_jobs=4)]: Done 442 tasks      | elapsed:    6.3s\n",
      "[Parallel(n_jobs=4)]: Done 500 out of 500 | elapsed:    7.1s finished\n"
     ]
    },
    {
     "data": {
      "text/plain": [
       "0.7518526315789473"
      ]
     },
     "execution_count": 36,
     "metadata": {},
     "output_type": "execute_result"
    }
   ],
   "source": [
    "acc_rf = clf_rf.score(x_test, y_test)\n",
    "acc_rf"
   ]
  },
  {
   "cell_type": "code",
   "execution_count": 62,
   "id": "danish-brush",
   "metadata": {},
   "outputs": [
    {
     "data": {
      "image/png": "[encoded data removed]",
      "text/plain": [
       "<Figure size 432x288 with 1 Axes>"
      ]
     },
     "metadata": {
      "needs_background": "light"
     },
     "output_type": "display_data"
    }
   ],
   "source": [
    "from scipy.stats import binned_statistic\n",
    "import matplotlib.pyplot as plt\n",
    "bin_mean, bin_edge, _ = binned_statistic(df_prepped.rent, df_prepped.age, bins = 50)\n",
    "\n",
    "x = np.average([bin_edge[:-1], bin_edge[1:]], axis = 0)\n",
    "plt.scatter(x, bin_mean, label = '%d bins' % 50)\n",
    "plt.xlabel('Rent')\n",
    "plt.ylabel('Age')\n",
    "plt.title('Age on Rent')\n",
    "\n",
    "plt.show()"
   ]
  },
  {
   "cell_type": "markdown",
   "id": "peaceful-trunk",
   "metadata": {},
   "source": [
    "## Comparison\n",
    "\n",
    "This is the comparison between all three models we used:\n",
    "\n",
    "|              |Performance (Accuracy)  | Ease\n",
    "|--------------|------------------------|----------------\n",
    "|Null model    | 0.7510371460204014     |Basic level formulaic work|\n",
    "|KNN Model     | 0.7482105263157894    |Difficult to always implement becauses of the amount of time it takes, also a lazy algorithm because it |\n",
    "|Random Forest | 0.7504631578947368 | Good test to see if the model predicts the value of the rent efficiently, easy to use because after you find the  |\n",
    "\n",
    "Random Forest model had the best accuracy of the two models I tested. However, when looking at the three models as a whole, the null model had the best accuracy. This can be due to many different reasons which will be further discussed in the write up."
   ]
  },
  {
   "cell_type": "markdown",
   "id": "abandoned-essex",
   "metadata": {},
   "source": [
    "## Confusion matrix for descrete variables"
   ]
  },
  {
   "cell_type": "code",
   "execution_count": 55,
   "id": "powerful-trauma",
   "metadata": {},
   "outputs": [
    {
     "ename": "ValueError",
     "evalue": "The number of FixedLocator locations (131), usually from a call to set_ticks, does not match the number of ticklabels (93).",
     "output_type": "error",
     "traceback": [
      "\u001b[0;31m---------------------------------------------------------------------------\u001b[0m",
      "\u001b[0;31mValueError\u001b[0m                                Traceback (most recent call last)",
      "\u001b[0;32m<ipython-input-55-0f5b29dc75a5>\u001b[0m in \u001b[0;36m<module>\u001b[0;34m\u001b[0m\n\u001b[0;32m----> 1\u001b[0;31m \u001b[0msk_fig\u001b[0m \u001b[0;34m=\u001b[0m \u001b[0mplot_confusion_matrix\u001b[0m\u001b[0;34m(\u001b[0m\u001b[0mknn\u001b[0m\u001b[0;34m,\u001b[0m \u001b[0mx_test\u001b[0m\u001b[0;34m,\u001b[0m \u001b[0my_test\u001b[0m\u001b[0;34m)\u001b[0m\u001b[0;34m\u001b[0m\u001b[0;34m\u001b[0m\u001b[0m\n\u001b[0m\u001b[1;32m      2\u001b[0m \u001b[0mplt\u001b[0m\u001b[0;34m.\u001b[0m\u001b[0mtitle\u001b[0m\u001b[0;34m(\u001b[0m\u001b[0;34m'KNN'\u001b[0m\u001b[0;34m)\u001b[0m\u001b[0;34m\u001b[0m\u001b[0;34m\u001b[0m\u001b[0m\n\u001b[1;32m      3\u001b[0m \u001b[0;34m\u001b[0m\u001b[0m\n\u001b[1;32m      4\u001b[0m \u001b[0mplt\u001b[0m\u001b[0;34m.\u001b[0m\u001b[0mshow\u001b[0m\u001b[0;34m(\u001b[0m\u001b[0;34m)\u001b[0m\u001b[0;34m\u001b[0m\u001b[0;34m\u001b[0m\u001b[0m\n",
      "\u001b[0;32m/opt/anaconda3/envs/AMLinEcon/lib/python3.7/site-packages/sklearn/utils/validation.py\u001b[0m in \u001b[0;36minner_f\u001b[0;34m(*args, **kwargs)\u001b[0m\n\u001b[1;32m     70\u001b[0m                           FutureWarning)\n\u001b[1;32m     71\u001b[0m         \u001b[0mkwargs\u001b[0m\u001b[0;34m.\u001b[0m\u001b[0mupdate\u001b[0m\u001b[0;34m(\u001b[0m\u001b[0;34m{\u001b[0m\u001b[0mk\u001b[0m\u001b[0;34m:\u001b[0m \u001b[0marg\u001b[0m \u001b[0;32mfor\u001b[0m \u001b[0mk\u001b[0m\u001b[0;34m,\u001b[0m \u001b[0marg\u001b[0m \u001b[0;32min\u001b[0m \u001b[0mzip\u001b[0m\u001b[0;34m(\u001b[0m\u001b[0msig\u001b[0m\u001b[0;34m.\u001b[0m\u001b[0mparameters\u001b[0m\u001b[0;34m,\u001b[0m \u001b[0margs\u001b[0m\u001b[0;34m)\u001b[0m\u001b[0;34m}\u001b[0m\u001b[0;34m)\u001b[0m\u001b[0;34m\u001b[0m\u001b[0;34m\u001b[0m\u001b[0m\n\u001b[0;32m---> 72\u001b[0;31m         \u001b[0;32mreturn\u001b[0m \u001b[0mf\u001b[0m\u001b[0;34m(\u001b[0m\u001b[0;34m**\u001b[0m\u001b[0mkwargs\u001b[0m\u001b[0;34m)\u001b[0m\u001b[0;34m\u001b[0m\u001b[0;34m\u001b[0m\u001b[0m\n\u001b[0m\u001b[1;32m     73\u001b[0m     \u001b[0;32mreturn\u001b[0m \u001b[0minner_f\u001b[0m\u001b[0;34m\u001b[0m\u001b[0;34m\u001b[0m\u001b[0m\n\u001b[1;32m     74\u001b[0m \u001b[0;34m\u001b[0m\u001b[0m\n",
      "\u001b[0;32m/opt/anaconda3/envs/AMLinEcon/lib/python3.7/site-packages/sklearn/metrics/_plot/confusion_matrix.py\u001b[0m in \u001b[0;36mplot_confusion_matrix\u001b[0;34m(estimator, X, y_true, labels, sample_weight, normalize, display_labels, include_values, xticks_rotation, values_format, cmap, ax)\u001b[0m\n\u001b[1;32m    231\u001b[0m     return disp.plot(include_values=include_values,\n\u001b[1;32m    232\u001b[0m                      \u001b[0mcmap\u001b[0m\u001b[0;34m=\u001b[0m\u001b[0mcmap\u001b[0m\u001b[0;34m,\u001b[0m \u001b[0max\u001b[0m\u001b[0;34m=\u001b[0m\u001b[0max\u001b[0m\u001b[0;34m,\u001b[0m \u001b[0mxticks_rotation\u001b[0m\u001b[0;34m=\u001b[0m\u001b[0mxticks_rotation\u001b[0m\u001b[0;34m,\u001b[0m\u001b[0;34m\u001b[0m\u001b[0;34m\u001b[0m\u001b[0m\n\u001b[0;32m--> 233\u001b[0;31m                      values_format=values_format)\n\u001b[0m",
      "\u001b[0;32m/opt/anaconda3/envs/AMLinEcon/lib/python3.7/site-packages/sklearn/utils/validation.py\u001b[0m in \u001b[0;36minner_f\u001b[0;34m(*args, **kwargs)\u001b[0m\n\u001b[1;32m     70\u001b[0m                           FutureWarning)\n\u001b[1;32m     71\u001b[0m         \u001b[0mkwargs\u001b[0m\u001b[0;34m.\u001b[0m\u001b[0mupdate\u001b[0m\u001b[0;34m(\u001b[0m\u001b[0;34m{\u001b[0m\u001b[0mk\u001b[0m\u001b[0;34m:\u001b[0m \u001b[0marg\u001b[0m \u001b[0;32mfor\u001b[0m \u001b[0mk\u001b[0m\u001b[0;34m,\u001b[0m \u001b[0marg\u001b[0m \u001b[0;32min\u001b[0m \u001b[0mzip\u001b[0m\u001b[0;34m(\u001b[0m\u001b[0msig\u001b[0m\u001b[0;34m.\u001b[0m\u001b[0mparameters\u001b[0m\u001b[0;34m,\u001b[0m \u001b[0margs\u001b[0m\u001b[0;34m)\u001b[0m\u001b[0;34m}\u001b[0m\u001b[0;34m)\u001b[0m\u001b[0;34m\u001b[0m\u001b[0;34m\u001b[0m\u001b[0m\n\u001b[0;32m---> 72\u001b[0;31m         \u001b[0;32mreturn\u001b[0m \u001b[0mf\u001b[0m\u001b[0;34m(\u001b[0m\u001b[0;34m**\u001b[0m\u001b[0mkwargs\u001b[0m\u001b[0;34m)\u001b[0m\u001b[0;34m\u001b[0m\u001b[0;34m\u001b[0m\u001b[0m\n\u001b[0m\u001b[1;32m     73\u001b[0m     \u001b[0;32mreturn\u001b[0m \u001b[0minner_f\u001b[0m\u001b[0;34m\u001b[0m\u001b[0;34m\u001b[0m\u001b[0m\n\u001b[1;32m     74\u001b[0m \u001b[0;34m\u001b[0m\u001b[0m\n",
      "\u001b[0;32m/opt/anaconda3/envs/AMLinEcon/lib/python3.7/site-packages/sklearn/metrics/_plot/confusion_matrix.py\u001b[0m in \u001b[0;36mplot\u001b[0;34m(self, include_values, cmap, xticks_rotation, values_format, ax)\u001b[0m\n\u001b[1;32m    123\u001b[0m                \u001b[0myticklabels\u001b[0m\u001b[0;34m=\u001b[0m\u001b[0mdisplay_labels\u001b[0m\u001b[0;34m,\u001b[0m\u001b[0;34m\u001b[0m\u001b[0;34m\u001b[0m\u001b[0m\n\u001b[1;32m    124\u001b[0m                \u001b[0mylabel\u001b[0m\u001b[0;34m=\u001b[0m\u001b[0;34m\"True label\"\u001b[0m\u001b[0;34m,\u001b[0m\u001b[0;34m\u001b[0m\u001b[0;34m\u001b[0m\u001b[0m\n\u001b[0;32m--> 125\u001b[0;31m                xlabel=\"Predicted label\")\n\u001b[0m\u001b[1;32m    126\u001b[0m \u001b[0;34m\u001b[0m\u001b[0m\n\u001b[1;32m    127\u001b[0m         \u001b[0max\u001b[0m\u001b[0;34m.\u001b[0m\u001b[0mset_ylim\u001b[0m\u001b[0;34m(\u001b[0m\u001b[0;34m(\u001b[0m\u001b[0mn_classes\u001b[0m \u001b[0;34m-\u001b[0m \u001b[0;36m0.5\u001b[0m\u001b[0;34m,\u001b[0m \u001b[0;34m-\u001b[0m\u001b[0;36m0.5\u001b[0m\u001b[0;34m)\u001b[0m\u001b[0;34m)\u001b[0m\u001b[0;34m\u001b[0m\u001b[0;34m\u001b[0m\u001b[0m\n",
      "\u001b[0;32m/opt/anaconda3/envs/AMLinEcon/lib/python3.7/site-packages/matplotlib/artist.py\u001b[0m in \u001b[0;36mset\u001b[0;34m(self, **kwargs)\u001b[0m\n\u001b[1;32m   1111\u001b[0m         \u001b[0;32mif\u001b[0m \u001b[0mmove_color_to_start\u001b[0m\u001b[0;34m:\u001b[0m\u001b[0;34m\u001b[0m\u001b[0;34m\u001b[0m\u001b[0m\n\u001b[1;32m   1112\u001b[0m             \u001b[0mkwargs\u001b[0m \u001b[0;34m=\u001b[0m \u001b[0;34m{\u001b[0m\u001b[0;34m\"color\"\u001b[0m\u001b[0;34m:\u001b[0m \u001b[0mkwargs\u001b[0m\u001b[0;34m.\u001b[0m\u001b[0mpop\u001b[0m\u001b[0;34m(\u001b[0m\u001b[0;34m\"color\"\u001b[0m\u001b[0;34m)\u001b[0m\u001b[0;34m,\u001b[0m \u001b[0;34m**\u001b[0m\u001b[0mkwargs\u001b[0m\u001b[0;34m}\u001b[0m\u001b[0;34m\u001b[0m\u001b[0;34m\u001b[0m\u001b[0m\n\u001b[0;32m-> 1113\u001b[0;31m         \u001b[0;32mreturn\u001b[0m \u001b[0mself\u001b[0m\u001b[0;34m.\u001b[0m\u001b[0mupdate\u001b[0m\u001b[0;34m(\u001b[0m\u001b[0mkwargs\u001b[0m\u001b[0;34m)\u001b[0m\u001b[0;34m\u001b[0m\u001b[0;34m\u001b[0m\u001b[0m\n\u001b[0m\u001b[1;32m   1114\u001b[0m \u001b[0;34m\u001b[0m\u001b[0m\n\u001b[1;32m   1115\u001b[0m     \u001b[0;32mdef\u001b[0m \u001b[0mfindobj\u001b[0m\u001b[0;34m(\u001b[0m\u001b[0mself\u001b[0m\u001b[0;34m,\u001b[0m \u001b[0mmatch\u001b[0m\u001b[0;34m=\u001b[0m\u001b[0;32mNone\u001b[0m\u001b[0;34m,\u001b[0m \u001b[0minclude_self\u001b[0m\u001b[0;34m=\u001b[0m\u001b[0;32mTrue\u001b[0m\u001b[0;34m)\u001b[0m\u001b[0;34m:\u001b[0m\u001b[0;34m\u001b[0m\u001b[0;34m\u001b[0m\u001b[0m\n",
      "\u001b[0;32m/opt/anaconda3/envs/AMLinEcon/lib/python3.7/site-packages/matplotlib/artist.py\u001b[0m in \u001b[0;36mupdate\u001b[0;34m(self, props)\u001b[0m\n\u001b[1;32m    996\u001b[0m                         raise AttributeError(f\"{type(self).__name__!r} object \"\n\u001b[1;32m    997\u001b[0m                                              f\"has no property {k!r}\")\n\u001b[0;32m--> 998\u001b[0;31m                     \u001b[0mret\u001b[0m\u001b[0;34m.\u001b[0m\u001b[0mappend\u001b[0m\u001b[0;34m(\u001b[0m\u001b[0mfunc\u001b[0m\u001b[0;34m(\u001b[0m\u001b[0mv\u001b[0m\u001b[0;34m)\u001b[0m\u001b[0;34m)\u001b[0m\u001b[0;34m\u001b[0m\u001b[0;34m\u001b[0m\u001b[0m\n\u001b[0m\u001b[1;32m    999\u001b[0m         \u001b[0;32mif\u001b[0m \u001b[0mret\u001b[0m\u001b[0;34m:\u001b[0m\u001b[0;34m\u001b[0m\u001b[0;34m\u001b[0m\u001b[0m\n\u001b[1;32m   1000\u001b[0m             \u001b[0mself\u001b[0m\u001b[0;34m.\u001b[0m\u001b[0mpchanged\u001b[0m\u001b[0;34m(\u001b[0m\u001b[0;34m)\u001b[0m\u001b[0;34m\u001b[0m\u001b[0;34m\u001b[0m\u001b[0m\n",
      "\u001b[0;32m/opt/anaconda3/envs/AMLinEcon/lib/python3.7/site-packages/matplotlib/axes/_base.py\u001b[0m in \u001b[0;36mwrapper\u001b[0;34m(self, *args, **kwargs)\u001b[0m\n\u001b[1;32m     61\u001b[0m \u001b[0;34m\u001b[0m\u001b[0m\n\u001b[1;32m     62\u001b[0m         \u001b[0;32mdef\u001b[0m \u001b[0mwrapper\u001b[0m\u001b[0;34m(\u001b[0m\u001b[0mself\u001b[0m\u001b[0;34m,\u001b[0m \u001b[0;34m*\u001b[0m\u001b[0margs\u001b[0m\u001b[0;34m,\u001b[0m \u001b[0;34m**\u001b[0m\u001b[0mkwargs\u001b[0m\u001b[0;34m)\u001b[0m\u001b[0;34m:\u001b[0m\u001b[0;34m\u001b[0m\u001b[0;34m\u001b[0m\u001b[0m\n\u001b[0;32m---> 63\u001b[0;31m             \u001b[0;32mreturn\u001b[0m \u001b[0mget_method\u001b[0m\u001b[0;34m(\u001b[0m\u001b[0mself\u001b[0m\u001b[0;34m)\u001b[0m\u001b[0;34m(\u001b[0m\u001b[0;34m*\u001b[0m\u001b[0margs\u001b[0m\u001b[0;34m,\u001b[0m \u001b[0;34m**\u001b[0m\u001b[0mkwargs\u001b[0m\u001b[0;34m)\u001b[0m\u001b[0;34m\u001b[0m\u001b[0;34m\u001b[0m\u001b[0m\n\u001b[0m\u001b[1;32m     64\u001b[0m \u001b[0;34m\u001b[0m\u001b[0m\n\u001b[1;32m     65\u001b[0m         \u001b[0mwrapper\u001b[0m\u001b[0;34m.\u001b[0m\u001b[0m__module__\u001b[0m \u001b[0;34m=\u001b[0m \u001b[0mowner\u001b[0m\u001b[0;34m.\u001b[0m\u001b[0m__module__\u001b[0m\u001b[0;34m\u001b[0m\u001b[0;34m\u001b[0m\u001b[0m\n",
      "\u001b[0;32m/opt/anaconda3/envs/AMLinEcon/lib/python3.7/site-packages/matplotlib/cbook/deprecation.py\u001b[0m in \u001b[0;36mwrapper\u001b[0;34m(*args, **kwargs)\u001b[0m\n\u001b[1;32m    449\u001b[0m                 \u001b[0;34m\"parameter will become keyword-only %(removal)s.\"\u001b[0m\u001b[0;34m,\u001b[0m\u001b[0;34m\u001b[0m\u001b[0;34m\u001b[0m\u001b[0m\n\u001b[1;32m    450\u001b[0m                 name=name, obj_type=f\"parameter of {func.__name__}()\")\n\u001b[0;32m--> 451\u001b[0;31m         \u001b[0;32mreturn\u001b[0m \u001b[0mfunc\u001b[0m\u001b[0;34m(\u001b[0m\u001b[0;34m*\u001b[0m\u001b[0margs\u001b[0m\u001b[0;34m,\u001b[0m \u001b[0;34m**\u001b[0m\u001b[0mkwargs\u001b[0m\u001b[0;34m)\u001b[0m\u001b[0;34m\u001b[0m\u001b[0;34m\u001b[0m\u001b[0m\n\u001b[0m\u001b[1;32m    452\u001b[0m \u001b[0;34m\u001b[0m\u001b[0m\n\u001b[1;32m    453\u001b[0m     \u001b[0;32mreturn\u001b[0m \u001b[0mwrapper\u001b[0m\u001b[0;34m\u001b[0m\u001b[0;34m\u001b[0m\u001b[0m\n",
      "\u001b[0;32m/opt/anaconda3/envs/AMLinEcon/lib/python3.7/site-packages/matplotlib/axis.py\u001b[0m in \u001b[0;36m_set_ticklabels\u001b[0;34m(self, labels, fontdict, minor, **kwargs)\u001b[0m\n\u001b[1;32m   1794\u001b[0m         \u001b[0;32mif\u001b[0m \u001b[0mfontdict\u001b[0m \u001b[0;32mis\u001b[0m \u001b[0;32mnot\u001b[0m \u001b[0;32mNone\u001b[0m\u001b[0;34m:\u001b[0m\u001b[0;34m\u001b[0m\u001b[0;34m\u001b[0m\u001b[0m\n\u001b[1;32m   1795\u001b[0m             \u001b[0mkwargs\u001b[0m\u001b[0;34m.\u001b[0m\u001b[0mupdate\u001b[0m\u001b[0;34m(\u001b[0m\u001b[0mfontdict\u001b[0m\u001b[0;34m)\u001b[0m\u001b[0;34m\u001b[0m\u001b[0;34m\u001b[0m\u001b[0m\n\u001b[0;32m-> 1796\u001b[0;31m         \u001b[0;32mreturn\u001b[0m \u001b[0mself\u001b[0m\u001b[0;34m.\u001b[0m\u001b[0mset_ticklabels\u001b[0m\u001b[0;34m(\u001b[0m\u001b[0mlabels\u001b[0m\u001b[0;34m,\u001b[0m \u001b[0mminor\u001b[0m\u001b[0;34m=\u001b[0m\u001b[0mminor\u001b[0m\u001b[0;34m,\u001b[0m \u001b[0;34m**\u001b[0m\u001b[0mkwargs\u001b[0m\u001b[0;34m)\u001b[0m\u001b[0;34m\u001b[0m\u001b[0;34m\u001b[0m\u001b[0m\n\u001b[0m\u001b[1;32m   1797\u001b[0m \u001b[0;34m\u001b[0m\u001b[0m\n\u001b[1;32m   1798\u001b[0m     \u001b[0;34m@\u001b[0m\u001b[0mcbook\u001b[0m\u001b[0;34m.\u001b[0m\u001b[0m_make_keyword_only\u001b[0m\u001b[0;34m(\u001b[0m\u001b[0;34m\"3.2\"\u001b[0m\u001b[0;34m,\u001b[0m \u001b[0;34m\"minor\"\u001b[0m\u001b[0;34m)\u001b[0m\u001b[0;34m\u001b[0m\u001b[0;34m\u001b[0m\u001b[0m\n",
      "\u001b[0;32m/opt/anaconda3/envs/AMLinEcon/lib/python3.7/site-packages/matplotlib/axis.py\u001b[0m in \u001b[0;36mset_ticklabels\u001b[0;34m(self, ticklabels, minor, **kwargs)\u001b[0m\n\u001b[1;32m   1716\u001b[0m             \u001b[0;32mif\u001b[0m \u001b[0mlen\u001b[0m\u001b[0;34m(\u001b[0m\u001b[0mlocator\u001b[0m\u001b[0;34m.\u001b[0m\u001b[0mlocs\u001b[0m\u001b[0;34m)\u001b[0m \u001b[0;34m!=\u001b[0m \u001b[0mlen\u001b[0m\u001b[0;34m(\u001b[0m\u001b[0mticklabels\u001b[0m\u001b[0;34m)\u001b[0m \u001b[0;32mand\u001b[0m \u001b[0mlen\u001b[0m\u001b[0;34m(\u001b[0m\u001b[0mticklabels\u001b[0m\u001b[0;34m)\u001b[0m \u001b[0;34m!=\u001b[0m \u001b[0;36m0\u001b[0m\u001b[0;34m:\u001b[0m\u001b[0;34m\u001b[0m\u001b[0;34m\u001b[0m\u001b[0m\n\u001b[1;32m   1717\u001b[0m                 raise ValueError(\n\u001b[0;32m-> 1718\u001b[0;31m                     \u001b[0;34m\"The number of FixedLocator locations\"\u001b[0m\u001b[0;34m\u001b[0m\u001b[0;34m\u001b[0m\u001b[0m\n\u001b[0m\u001b[1;32m   1719\u001b[0m                     \u001b[0;34mf\" ({len(locator.locs)}), usually from a call to\"\u001b[0m\u001b[0;34m\u001b[0m\u001b[0;34m\u001b[0m\u001b[0m\n\u001b[1;32m   1720\u001b[0m                     \u001b[0;34m\" set_ticks, does not match\"\u001b[0m\u001b[0;34m\u001b[0m\u001b[0;34m\u001b[0m\u001b[0m\n",
      "\u001b[0;31mValueError\u001b[0m: The number of FixedLocator locations (131), usually from a call to set_ticks, does not match the number of ticklabels (93)."
     ]
    },
    {
     "data": {
      "image/png": "[encoded data removed]",
      "text/plain": [
       "<Figure size 432x288 with 2 Axes>"
      ]
     },
     "metadata": {
      "needs_background": "light"
     },
     "output_type": "display_data"
    }
   ],
   "source": [
    "sk_fig = plot_confusion_matrix(knn, x_test, y_test)\n",
    "plt.title('KNN')\n",
    "\n",
    "plt.show()"
   ]
  },
  {
   "cell_type": "code",
   "execution_count": 56,
   "id": "irish-elite",
   "metadata": {},
   "outputs": [
    {
     "name": "stderr",
     "output_type": "stream",
     "text": [
      "[Parallel(n_jobs=4)]: Using backend ThreadingBackend with 4 concurrent workers.\n",
      "[Parallel(n_jobs=4)]: Done  42 tasks      | elapsed:    0.9s\n",
      "[Parallel(n_jobs=4)]: Done 192 tasks      | elapsed:    2.8s\n",
      "[Parallel(n_jobs=4)]: Done 442 tasks      | elapsed:    5.9s\n",
      "[Parallel(n_jobs=4)]: Done 500 out of 500 | elapsed:    6.6s finished\n"
     ]
    },
    {
     "ename": "ValueError",
     "evalue": "The number of FixedLocator locations (131), usually from a call to set_ticks, does not match the number of ticklabels (93).",
     "output_type": "error",
     "traceback": [
      "\u001b[0;31m---------------------------------------------------------------------------\u001b[0m",
      "\u001b[0;31mValueError\u001b[0m                                Traceback (most recent call last)",
      "\u001b[0;32m<ipython-input-56-94ebc533dfee>\u001b[0m in \u001b[0;36m<module>\u001b[0;34m\u001b[0m\n\u001b[0;32m----> 1\u001b[0;31m \u001b[0msk_fig\u001b[0m \u001b[0;34m=\u001b[0m \u001b[0mplot_confusion_matrix\u001b[0m\u001b[0;34m(\u001b[0m\u001b[0mclf_rf\u001b[0m\u001b[0;34m,\u001b[0m \u001b[0mx_test\u001b[0m\u001b[0;34m,\u001b[0m \u001b[0my_test\u001b[0m\u001b[0;34m)\u001b[0m\u001b[0;34m\u001b[0m\u001b[0;34m\u001b[0m\u001b[0m\n\u001b[0m\u001b[1;32m      2\u001b[0m \u001b[0mplt\u001b[0m\u001b[0;34m.\u001b[0m\u001b[0mtitle\u001b[0m\u001b[0;34m(\u001b[0m\u001b[0;34m'Random Forest'\u001b[0m\u001b[0;34m)\u001b[0m\u001b[0;34m\u001b[0m\u001b[0;34m\u001b[0m\u001b[0m\n\u001b[1;32m      3\u001b[0m \u001b[0;34m\u001b[0m\u001b[0m\n\u001b[1;32m      4\u001b[0m \u001b[0mplt\u001b[0m\u001b[0;34m.\u001b[0m\u001b[0mshow\u001b[0m\u001b[0;34m(\u001b[0m\u001b[0;34m)\u001b[0m\u001b[0;34m\u001b[0m\u001b[0;34m\u001b[0m\u001b[0m\n",
      "\u001b[0;32m/opt/anaconda3/envs/AMLinEcon/lib/python3.7/site-packages/sklearn/utils/validation.py\u001b[0m in \u001b[0;36minner_f\u001b[0;34m(*args, **kwargs)\u001b[0m\n\u001b[1;32m     70\u001b[0m                           FutureWarning)\n\u001b[1;32m     71\u001b[0m         \u001b[0mkwargs\u001b[0m\u001b[0;34m.\u001b[0m\u001b[0mupdate\u001b[0m\u001b[0;34m(\u001b[0m\u001b[0;34m{\u001b[0m\u001b[0mk\u001b[0m\u001b[0;34m:\u001b[0m \u001b[0marg\u001b[0m \u001b[0;32mfor\u001b[0m \u001b[0mk\u001b[0m\u001b[0;34m,\u001b[0m \u001b[0marg\u001b[0m \u001b[0;32min\u001b[0m \u001b[0mzip\u001b[0m\u001b[0;34m(\u001b[0m\u001b[0msig\u001b[0m\u001b[0;34m.\u001b[0m\u001b[0mparameters\u001b[0m\u001b[0;34m,\u001b[0m \u001b[0margs\u001b[0m\u001b[0;34m)\u001b[0m\u001b[0;34m}\u001b[0m\u001b[0;34m)\u001b[0m\u001b[0;34m\u001b[0m\u001b[0;34m\u001b[0m\u001b[0m\n\u001b[0;32m---> 72\u001b[0;31m         \u001b[0;32mreturn\u001b[0m \u001b[0mf\u001b[0m\u001b[0;34m(\u001b[0m\u001b[0;34m**\u001b[0m\u001b[0mkwargs\u001b[0m\u001b[0;34m)\u001b[0m\u001b[0;34m\u001b[0m\u001b[0;34m\u001b[0m\u001b[0m\n\u001b[0m\u001b[1;32m     73\u001b[0m     \u001b[0;32mreturn\u001b[0m \u001b[0minner_f\u001b[0m\u001b[0;34m\u001b[0m\u001b[0;34m\u001b[0m\u001b[0m\n\u001b[1;32m     74\u001b[0m \u001b[0;34m\u001b[0m\u001b[0m\n",
      "\u001b[0;32m/opt/anaconda3/envs/AMLinEcon/lib/python3.7/site-packages/sklearn/metrics/_plot/confusion_matrix.py\u001b[0m in \u001b[0;36mplot_confusion_matrix\u001b[0;34m(estimator, X, y_true, labels, sample_weight, normalize, display_labels, include_values, xticks_rotation, values_format, cmap, ax)\u001b[0m\n\u001b[1;32m    231\u001b[0m     return disp.plot(include_values=include_values,\n\u001b[1;32m    232\u001b[0m                      \u001b[0mcmap\u001b[0m\u001b[0;34m=\u001b[0m\u001b[0mcmap\u001b[0m\u001b[0;34m,\u001b[0m \u001b[0max\u001b[0m\u001b[0;34m=\u001b[0m\u001b[0max\u001b[0m\u001b[0;34m,\u001b[0m \u001b[0mxticks_rotation\u001b[0m\u001b[0;34m=\u001b[0m\u001b[0mxticks_rotation\u001b[0m\u001b[0;34m,\u001b[0m\u001b[0;34m\u001b[0m\u001b[0;34m\u001b[0m\u001b[0m\n\u001b[0;32m--> 233\u001b[0;31m                      values_format=values_format)\n\u001b[0m",
      "\u001b[0;32m/opt/anaconda3/envs/AMLinEcon/lib/python3.7/site-packages/sklearn/utils/validation.py\u001b[0m in \u001b[0;36minner_f\u001b[0;34m(*args, **kwargs)\u001b[0m\n\u001b[1;32m     70\u001b[0m                           FutureWarning)\n\u001b[1;32m     71\u001b[0m         \u001b[0mkwargs\u001b[0m\u001b[0;34m.\u001b[0m\u001b[0mupdate\u001b[0m\u001b[0;34m(\u001b[0m\u001b[0;34m{\u001b[0m\u001b[0mk\u001b[0m\u001b[0;34m:\u001b[0m \u001b[0marg\u001b[0m \u001b[0;32mfor\u001b[0m \u001b[0mk\u001b[0m\u001b[0;34m,\u001b[0m \u001b[0marg\u001b[0m \u001b[0;32min\u001b[0m \u001b[0mzip\u001b[0m\u001b[0;34m(\u001b[0m\u001b[0msig\u001b[0m\u001b[0;34m.\u001b[0m\u001b[0mparameters\u001b[0m\u001b[0;34m,\u001b[0m \u001b[0margs\u001b[0m\u001b[0;34m)\u001b[0m\u001b[0;34m}\u001b[0m\u001b[0;34m)\u001b[0m\u001b[0;34m\u001b[0m\u001b[0;34m\u001b[0m\u001b[0m\n\u001b[0;32m---> 72\u001b[0;31m         \u001b[0;32mreturn\u001b[0m \u001b[0mf\u001b[0m\u001b[0;34m(\u001b[0m\u001b[0;34m**\u001b[0m\u001b[0mkwargs\u001b[0m\u001b[0;34m)\u001b[0m\u001b[0;34m\u001b[0m\u001b[0;34m\u001b[0m\u001b[0m\n\u001b[0m\u001b[1;32m     73\u001b[0m     \u001b[0;32mreturn\u001b[0m \u001b[0minner_f\u001b[0m\u001b[0;34m\u001b[0m\u001b[0;34m\u001b[0m\u001b[0m\n\u001b[1;32m     74\u001b[0m \u001b[0;34m\u001b[0m\u001b[0m\n",
      "\u001b[0;32m/opt/anaconda3/envs/AMLinEcon/lib/python3.7/site-packages/sklearn/metrics/_plot/confusion_matrix.py\u001b[0m in \u001b[0;36mplot\u001b[0;34m(self, include_values, cmap, xticks_rotation, values_format, ax)\u001b[0m\n\u001b[1;32m    123\u001b[0m                \u001b[0myticklabels\u001b[0m\u001b[0;34m=\u001b[0m\u001b[0mdisplay_labels\u001b[0m\u001b[0;34m,\u001b[0m\u001b[0;34m\u001b[0m\u001b[0;34m\u001b[0m\u001b[0m\n\u001b[1;32m    124\u001b[0m                \u001b[0mylabel\u001b[0m\u001b[0;34m=\u001b[0m\u001b[0;34m\"True label\"\u001b[0m\u001b[0;34m,\u001b[0m\u001b[0;34m\u001b[0m\u001b[0;34m\u001b[0m\u001b[0m\n\u001b[0;32m--> 125\u001b[0;31m                xlabel=\"Predicted label\")\n\u001b[0m\u001b[1;32m    126\u001b[0m \u001b[0;34m\u001b[0m\u001b[0m\n\u001b[1;32m    127\u001b[0m         \u001b[0max\u001b[0m\u001b[0;34m.\u001b[0m\u001b[0mset_ylim\u001b[0m\u001b[0;34m(\u001b[0m\u001b[0;34m(\u001b[0m\u001b[0mn_classes\u001b[0m \u001b[0;34m-\u001b[0m \u001b[0;36m0.5\u001b[0m\u001b[0;34m,\u001b[0m \u001b[0;34m-\u001b[0m\u001b[0;36m0.5\u001b[0m\u001b[0;34m)\u001b[0m\u001b[0;34m)\u001b[0m\u001b[0;34m\u001b[0m\u001b[0;34m\u001b[0m\u001b[0m\n",
      "\u001b[0;32m/opt/anaconda3/envs/AMLinEcon/lib/python3.7/site-packages/matplotlib/artist.py\u001b[0m in \u001b[0;36mset\u001b[0;34m(self, **kwargs)\u001b[0m\n\u001b[1;32m   1111\u001b[0m         \u001b[0;32mif\u001b[0m \u001b[0mmove_color_to_start\u001b[0m\u001b[0;34m:\u001b[0m\u001b[0;34m\u001b[0m\u001b[0;34m\u001b[0m\u001b[0m\n\u001b[1;32m   1112\u001b[0m             \u001b[0mkwargs\u001b[0m \u001b[0;34m=\u001b[0m \u001b[0;34m{\u001b[0m\u001b[0;34m\"color\"\u001b[0m\u001b[0;34m:\u001b[0m \u001b[0mkwargs\u001b[0m\u001b[0;34m.\u001b[0m\u001b[0mpop\u001b[0m\u001b[0;34m(\u001b[0m\u001b[0;34m\"color\"\u001b[0m\u001b[0;34m)\u001b[0m\u001b[0;34m,\u001b[0m \u001b[0;34m**\u001b[0m\u001b[0mkwargs\u001b[0m\u001b[0;34m}\u001b[0m\u001b[0;34m\u001b[0m\u001b[0;34m\u001b[0m\u001b[0m\n\u001b[0;32m-> 1113\u001b[0;31m         \u001b[0;32mreturn\u001b[0m \u001b[0mself\u001b[0m\u001b[0;34m.\u001b[0m\u001b[0mupdate\u001b[0m\u001b[0;34m(\u001b[0m\u001b[0mkwargs\u001b[0m\u001b[0;34m)\u001b[0m\u001b[0;34m\u001b[0m\u001b[0;34m\u001b[0m\u001b[0m\n\u001b[0m\u001b[1;32m   1114\u001b[0m \u001b[0;34m\u001b[0m\u001b[0m\n\u001b[1;32m   1115\u001b[0m     \u001b[0;32mdef\u001b[0m \u001b[0mfindobj\u001b[0m\u001b[0;34m(\u001b[0m\u001b[0mself\u001b[0m\u001b[0;34m,\u001b[0m \u001b[0mmatch\u001b[0m\u001b[0;34m=\u001b[0m\u001b[0;32mNone\u001b[0m\u001b[0;34m,\u001b[0m \u001b[0minclude_self\u001b[0m\u001b[0;34m=\u001b[0m\u001b[0;32mTrue\u001b[0m\u001b[0;34m)\u001b[0m\u001b[0;34m:\u001b[0m\u001b[0;34m\u001b[0m\u001b[0;34m\u001b[0m\u001b[0m\n",
      "\u001b[0;32m/opt/anaconda3/envs/AMLinEcon/lib/python3.7/site-packages/matplotlib/artist.py\u001b[0m in \u001b[0;36mupdate\u001b[0;34m(self, props)\u001b[0m\n\u001b[1;32m    996\u001b[0m                         raise AttributeError(f\"{type(self).__name__!r} object \"\n\u001b[1;32m    997\u001b[0m                                              f\"has no property {k!r}\")\n\u001b[0;32m--> 998\u001b[0;31m                     \u001b[0mret\u001b[0m\u001b[0;34m.\u001b[0m\u001b[0mappend\u001b[0m\u001b[0;34m(\u001b[0m\u001b[0mfunc\u001b[0m\u001b[0;34m(\u001b[0m\u001b[0mv\u001b[0m\u001b[0;34m)\u001b[0m\u001b[0;34m)\u001b[0m\u001b[0;34m\u001b[0m\u001b[0;34m\u001b[0m\u001b[0m\n\u001b[0m\u001b[1;32m    999\u001b[0m         \u001b[0;32mif\u001b[0m \u001b[0mret\u001b[0m\u001b[0;34m:\u001b[0m\u001b[0;34m\u001b[0m\u001b[0;34m\u001b[0m\u001b[0m\n\u001b[1;32m   1000\u001b[0m             \u001b[0mself\u001b[0m\u001b[0;34m.\u001b[0m\u001b[0mpchanged\u001b[0m\u001b[0;34m(\u001b[0m\u001b[0;34m)\u001b[0m\u001b[0;34m\u001b[0m\u001b[0;34m\u001b[0m\u001b[0m\n",
      "\u001b[0;32m/opt/anaconda3/envs/AMLinEcon/lib/python3.7/site-packages/matplotlib/axes/_base.py\u001b[0m in \u001b[0;36mwrapper\u001b[0;34m(self, *args, **kwargs)\u001b[0m\n\u001b[1;32m     61\u001b[0m \u001b[0;34m\u001b[0m\u001b[0m\n\u001b[1;32m     62\u001b[0m         \u001b[0;32mdef\u001b[0m \u001b[0mwrapper\u001b[0m\u001b[0;34m(\u001b[0m\u001b[0mself\u001b[0m\u001b[0;34m,\u001b[0m \u001b[0;34m*\u001b[0m\u001b[0margs\u001b[0m\u001b[0;34m,\u001b[0m \u001b[0;34m**\u001b[0m\u001b[0mkwargs\u001b[0m\u001b[0;34m)\u001b[0m\u001b[0;34m:\u001b[0m\u001b[0;34m\u001b[0m\u001b[0;34m\u001b[0m\u001b[0m\n\u001b[0;32m---> 63\u001b[0;31m             \u001b[0;32mreturn\u001b[0m \u001b[0mget_method\u001b[0m\u001b[0;34m(\u001b[0m\u001b[0mself\u001b[0m\u001b[0;34m)\u001b[0m\u001b[0;34m(\u001b[0m\u001b[0;34m*\u001b[0m\u001b[0margs\u001b[0m\u001b[0;34m,\u001b[0m \u001b[0;34m**\u001b[0m\u001b[0mkwargs\u001b[0m\u001b[0;34m)\u001b[0m\u001b[0;34m\u001b[0m\u001b[0;34m\u001b[0m\u001b[0m\n\u001b[0m\u001b[1;32m     64\u001b[0m \u001b[0;34m\u001b[0m\u001b[0m\n\u001b[1;32m     65\u001b[0m         \u001b[0mwrapper\u001b[0m\u001b[0;34m.\u001b[0m\u001b[0m__module__\u001b[0m \u001b[0;34m=\u001b[0m \u001b[0mowner\u001b[0m\u001b[0;34m.\u001b[0m\u001b[0m__module__\u001b[0m\u001b[0;34m\u001b[0m\u001b[0;34m\u001b[0m\u001b[0m\n",
      "\u001b[0;32m/opt/anaconda3/envs/AMLinEcon/lib/python3.7/site-packages/matplotlib/cbook/deprecation.py\u001b[0m in \u001b[0;36mwrapper\u001b[0;34m(*args, **kwargs)\u001b[0m\n\u001b[1;32m    449\u001b[0m                 \u001b[0;34m\"parameter will become keyword-only %(removal)s.\"\u001b[0m\u001b[0;34m,\u001b[0m\u001b[0;34m\u001b[0m\u001b[0;34m\u001b[0m\u001b[0m\n\u001b[1;32m    450\u001b[0m                 name=name, obj_type=f\"parameter of {func.__name__}()\")\n\u001b[0;32m--> 451\u001b[0;31m         \u001b[0;32mreturn\u001b[0m \u001b[0mfunc\u001b[0m\u001b[0;34m(\u001b[0m\u001b[0;34m*\u001b[0m\u001b[0margs\u001b[0m\u001b[0;34m,\u001b[0m \u001b[0;34m**\u001b[0m\u001b[0mkwargs\u001b[0m\u001b[0;34m)\u001b[0m\u001b[0;34m\u001b[0m\u001b[0;34m\u001b[0m\u001b[0m\n\u001b[0m\u001b[1;32m    452\u001b[0m \u001b[0;34m\u001b[0m\u001b[0m\n\u001b[1;32m    453\u001b[0m     \u001b[0;32mreturn\u001b[0m \u001b[0mwrapper\u001b[0m\u001b[0;34m\u001b[0m\u001b[0;34m\u001b[0m\u001b[0m\n",
      "\u001b[0;32m/opt/anaconda3/envs/AMLinEcon/lib/python3.7/site-packages/matplotlib/axis.py\u001b[0m in \u001b[0;36m_set_ticklabels\u001b[0;34m(self, labels, fontdict, minor, **kwargs)\u001b[0m\n\u001b[1;32m   1794\u001b[0m         \u001b[0;32mif\u001b[0m \u001b[0mfontdict\u001b[0m \u001b[0;32mis\u001b[0m \u001b[0;32mnot\u001b[0m \u001b[0;32mNone\u001b[0m\u001b[0;34m:\u001b[0m\u001b[0;34m\u001b[0m\u001b[0;34m\u001b[0m\u001b[0m\n\u001b[1;32m   1795\u001b[0m             \u001b[0mkwargs\u001b[0m\u001b[0;34m.\u001b[0m\u001b[0mupdate\u001b[0m\u001b[0;34m(\u001b[0m\u001b[0mfontdict\u001b[0m\u001b[0;34m)\u001b[0m\u001b[0;34m\u001b[0m\u001b[0;34m\u001b[0m\u001b[0m\n\u001b[0;32m-> 1796\u001b[0;31m         \u001b[0;32mreturn\u001b[0m \u001b[0mself\u001b[0m\u001b[0;34m.\u001b[0m\u001b[0mset_ticklabels\u001b[0m\u001b[0;34m(\u001b[0m\u001b[0mlabels\u001b[0m\u001b[0;34m,\u001b[0m \u001b[0mminor\u001b[0m\u001b[0;34m=\u001b[0m\u001b[0mminor\u001b[0m\u001b[0;34m,\u001b[0m \u001b[0;34m**\u001b[0m\u001b[0mkwargs\u001b[0m\u001b[0;34m)\u001b[0m\u001b[0;34m\u001b[0m\u001b[0;34m\u001b[0m\u001b[0m\n\u001b[0m\u001b[1;32m   1797\u001b[0m \u001b[0;34m\u001b[0m\u001b[0m\n\u001b[1;32m   1798\u001b[0m     \u001b[0;34m@\u001b[0m\u001b[0mcbook\u001b[0m\u001b[0;34m.\u001b[0m\u001b[0m_make_keyword_only\u001b[0m\u001b[0;34m(\u001b[0m\u001b[0;34m\"3.2\"\u001b[0m\u001b[0;34m,\u001b[0m \u001b[0;34m\"minor\"\u001b[0m\u001b[0;34m)\u001b[0m\u001b[0;34m\u001b[0m\u001b[0;34m\u001b[0m\u001b[0m\n",
      "\u001b[0;32m/opt/anaconda3/envs/AMLinEcon/lib/python3.7/site-packages/matplotlib/axis.py\u001b[0m in \u001b[0;36mset_ticklabels\u001b[0;34m(self, ticklabels, minor, **kwargs)\u001b[0m\n\u001b[1;32m   1716\u001b[0m             \u001b[0;32mif\u001b[0m \u001b[0mlen\u001b[0m\u001b[0;34m(\u001b[0m\u001b[0mlocator\u001b[0m\u001b[0;34m.\u001b[0m\u001b[0mlocs\u001b[0m\u001b[0;34m)\u001b[0m \u001b[0;34m!=\u001b[0m \u001b[0mlen\u001b[0m\u001b[0;34m(\u001b[0m\u001b[0mticklabels\u001b[0m\u001b[0;34m)\u001b[0m \u001b[0;32mand\u001b[0m \u001b[0mlen\u001b[0m\u001b[0;34m(\u001b[0m\u001b[0mticklabels\u001b[0m\u001b[0;34m)\u001b[0m \u001b[0;34m!=\u001b[0m \u001b[0;36m0\u001b[0m\u001b[0;34m:\u001b[0m\u001b[0;34m\u001b[0m\u001b[0;34m\u001b[0m\u001b[0m\n\u001b[1;32m   1717\u001b[0m                 raise ValueError(\n\u001b[0;32m-> 1718\u001b[0;31m                     \u001b[0;34m\"The number of FixedLocator locations\"\u001b[0m\u001b[0;34m\u001b[0m\u001b[0;34m\u001b[0m\u001b[0m\n\u001b[0m\u001b[1;32m   1719\u001b[0m                     \u001b[0;34mf\" ({len(locator.locs)}), usually from a call to\"\u001b[0m\u001b[0;34m\u001b[0m\u001b[0;34m\u001b[0m\u001b[0m\n\u001b[1;32m   1720\u001b[0m                     \u001b[0;34m\" set_ticks, does not match\"\u001b[0m\u001b[0;34m\u001b[0m\u001b[0;34m\u001b[0m\u001b[0m\n",
      "\u001b[0;31mValueError\u001b[0m: The number of FixedLocator locations (131), usually from a call to set_ticks, does not match the number of ticklabels (93)."
     ]
    },
    {
     "data": {
      "image/png": "[encoded data removed]",
      "text/plain": [
       "<Figure size 432x288 with 2 Axes>"
      ]
     },
     "metadata": {
      "needs_background": "light"
     },
     "output_type": "display_data"
    }
   ],
   "source": [
    "sk_fig = plot_confusion_matrix(clf_rf, x_test, y_test)\n",
    "plt.title('Random Forest')\n",
    "\n",
    "plt.show()"
   ]
  },
  {
   "cell_type": "code",
   "execution_count": null,
   "id": "minimal-latvia",
   "metadata": {},
   "outputs": [],
   "source": []
  }
 ],
 "metadata": {
  "kernelspec": {
   "display_name": "Python 3",
   "language": "python",
   "name": "python3"
  },
  "language_info": {
   "codemirror_mode": {
    "name": "ipython",
    "version": 3
   },
   "file_extension": ".py",
   "mimetype": "text/x-python",
   "name": "python",
   "nbconvert_exporter": "python",
   "pygments_lexer": "ipython3",
   "version": "3.7.9"
  }
 },
 "nbformat": 4,
 "nbformat_minor": 5
}
